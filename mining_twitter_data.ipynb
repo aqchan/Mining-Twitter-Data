{
 "cells": [
  {
   "cell_type": "markdown",
   "metadata": {},
   "source": [
    "# Data Collection: Download Twitter Data using API"
   ]
  },
  {
   "cell_type": "code",
   "execution_count": null,
   "metadata": {
    "collapsed": true
   },
   "outputs": [],
   "source": [
    "# What keyword did you choose?:  coronavirus"
   ]
  },
  {
   "cell_type": "code",
   "execution_count": 1,
   "metadata": {},
   "outputs": [],
   "source": [
    "import twitter\n",
    "import tweepy\n",
    "from tweepy import OAuthHandler\n",
    "import json\n",
    "#---------------------------------------------\n",
    "# Define a Function to Login Twitter API\n",
    "def oauth_login():\n",
    "    \n",
    "    CONSUMER_KEY = ''\n",
    "    CONSUMER_SECRET =''\n",
    "    OAUTH_TOKEN = ''\n",
    "    OAUTH_TOKEN_SECRET = ''\n",
    "    \n",
    "    auth = twitter.oauth.OAuth(OAUTH_TOKEN, OAUTH_TOKEN_SECRET,\n",
    "                           CONSUMER_KEY, CONSUMER_SECRET)\n",
    "\n",
    "    twitter_api = twitter.Twitter(auth=auth)\n",
    "    return twitter_api\n",
    "\n",
    "#----------------------------------------------\n",
    "# Collects all tweets that contain the keyword and stores them into a file\n",
    "def search_for_keyword():\n",
    "    api = oauth_login()\n",
    "    query = 'coronavirus' # keyword\n",
    "    count = 400\n",
    "    lang = 'en'\n",
    "\n",
    "    # Searches for tweets containing keyword using Search API\n",
    "    results = api.search.tweets(q=query, count=count, lang=lang)\n",
    "    statuses = results['statuses']\n",
    "    \n",
    "    # Write twitter data to a .json file    \n",
    "    with open('data.json', 'w') as f:\n",
    "        json.dump(statuses, f, indent=1)\n",
    "\n",
    "search_for_keyword()\n"
   ]
  },
  {
   "cell_type": "markdown",
   "metadata": {},
   "source": [
    "### Report  statistics about the tweets you collected "
   ]
  },
  {
   "cell_type": "code",
   "execution_count": null,
   "metadata": {
    "collapsed": true
   },
   "outputs": [],
   "source": [
    "# The total number of tweets collected:  100"
   ]
  },
  {
   "cell_type": "markdown",
   "metadata": {},
   "source": [
    "# Data Exploration: Exploring the Tweets and Tweet Entities\n",
    "\n",
    "**(1) Word Count:** \n",
    "* Load the tweets you collected in the local file (txt or json)\n",
    "* compute the frequencies of the words being used in these tweets. \n",
    "* Plot a table of the top 30 most-frequent words with their counts"
   ]
  },
  {
   "cell_type": "code",
   "execution_count": 2,
   "metadata": {},
   "outputs": [
    {
     "name": "stdout",
     "output_type": "stream",
     "text": [
      "[('RT', 89), ('the', 68), ('to', 54), ('of', 47), ('in', 25), ('a', 23), ('coronavirus', 23), ('for', 22), ('is', 18), ('with', 18), ('and', 17), ('from', 15), ('that', 13), ('Trump', 12), ('just', 11), ('Coronavirus', 10), ('on', 10), ('has', 9), ('he', 9), ('his', 9), ('are', 9), ('as', 8), ('because', 8), ('about', 7), ('you', 7), ('this', 7), ('--', 7), ('Dr.', 7), ('New', 7), ('The', 6)]\n",
      "+-------------+-------+\n",
      "| Word        | Count |\n",
      "+-------------+-------+\n",
      "| RT          |    89 |\n",
      "| the         |    68 |\n",
      "| to          |    54 |\n",
      "| of          |    47 |\n",
      "| in          |    25 |\n",
      "| a           |    23 |\n",
      "| coronavirus |    23 |\n",
      "| for         |    22 |\n",
      "| is          |    18 |\n",
      "| with        |    18 |\n",
      "| and         |    17 |\n",
      "| from        |    15 |\n",
      "| that        |    13 |\n",
      "| Trump       |    12 |\n",
      "| just        |    11 |\n",
      "| Coronavirus |    10 |\n",
      "| on          |    10 |\n",
      "| has         |     9 |\n",
      "| he          |     9 |\n",
      "| his         |     9 |\n",
      "| are         |     9 |\n",
      "| as          |     8 |\n",
      "| because     |     8 |\n",
      "| about       |     7 |\n",
      "| you         |     7 |\n",
      "| this        |     7 |\n",
      "| --          |     7 |\n",
      "| Dr.         |     7 |\n",
      "| New         |     7 |\n",
      "| The         |     6 |\n",
      "+-------------+-------+\n"
     ]
    }
   ],
   "source": [
    "import json\n",
    "from collections import Counter\n",
    "from prettytable import PrettyTable\n",
    "\n",
    "# Load the tweets collected in the local file\n",
    "def load_tweets():\n",
    "    with open('data.json', 'r') as f:\n",
    "        loaded_data = json.load(f)\n",
    "    return loaded_data\n",
    "\n",
    "# Compute the frequencies of the words being used in these tweets\n",
    "def compute_and_plot_frequencies(data):\n",
    "    status_texts = [ status['text'] \n",
    "                    for status in data ]\n",
    "\n",
    "    # Make a list of words from the tweets\n",
    "    words = []\n",
    "    for t in status_texts:\n",
    "        for w in t.split():\n",
    "            words.append(w)\n",
    "\n",
    "    # Find the top 30 frequent words and their frequencies    \n",
    "    for item in [words]:\n",
    "        c = Counter(item)\n",
    "        print(c.most_common()[:30])\n",
    "      \n",
    "    # Plot a table of the top 30 most-frequent words with their counts\n",
    "    for label, data in (('Word', words),):\n",
    "        pt = PrettyTable(field_names=[label, 'Count'])\n",
    "        c = Counter(data)\n",
    "        [ pt.add_row(kv) for kv in c.most_common()[:30] ]\n",
    "        pt.align[label], pt.align['Count'] = 'l', 'r' # Set column alignment\n",
    "        print(pt)\n",
    "            \n",
    "compute_and_plot_frequencies(load_tweets())\n"
   ]
  },
  {
   "cell_type": "markdown",
   "metadata": {},
   "source": [
    "**(2) Find the most popular tweets in your collection of tweets**\n",
    "\n",
    "Please plot a table of the top 10 most-retweeted tweets in your collection, i.e., the tweets with the largest number of retweet counts.\n"
   ]
  },
  {
   "cell_type": "code",
   "execution_count": 3,
   "metadata": {},
   "outputs": [
    {
     "name": "stdout",
     "output_type": "stream",
     "text": [
      "+-------+------------------------------------------------------------------------------------------------------+\n",
      "| Count | Text                                                                                                 |\n",
      "+-------+------------------------------------------------------------------------------------------------------+\n",
      "| 33639 | RT @girlsreallyrule: Here is Captain Crozier walking away from his ship while sailors chant his name |\n",
      "|       | after he was relieved from duty for bl…                                                              |\n",
      "| 15130 | RT @nytimes: A landlord with 18 apartment buildings in New York City waived April rent for his 200   |\n",
      "|       | to 300 tenants because of the coronaviru…                                                            |\n",
      "| 15130 | RT @nytimes: A landlord with 18 apartment buildings in New York City waived April rent for his 200   |\n",
      "|       | to 300 tenants because of the coronaviru…                                                            |\n",
      "| 15130 | RT @nytimes: A landlord with 18 apartment buildings in New York City waived April rent for his 200   |\n",
      "|       | to 300 tenants because of the coronaviru…                                                            |\n",
      "| 15130 | RT @nytimes: A landlord with 18 apartment buildings in New York City waived April rent for his 200   |\n",
      "|       | to 300 tenants because of the coronaviru…                                                            |\n",
      "| 12133 | RT @RealJamesWoods: Interesting... https://t.co/LpGe4Xd4Gv                                           |\n",
      "| 11784 | RT @WashTimes: Hydroxychloroquine rated 'most effective therapy' by doctors for coronavirus: Global  |\n",
      "|       | survey https://t.co/rnshJqzP4O                                                                       |\n",
      "| 8008  | RT @RealCandaceO: INCREDIBLE. As soon as #FilmYourHospital began trending &amp; Queens residents     |\n",
      "|       | began saying the media was lying—the hospital…                                                       |\n",
      "| 5994  | RT @SteveScalise: Make no mistake: Pelosi's proposed committee to investigate the Coronavirus crisis |\n",
      "|       | is just another excuse to harass @real…                                                              |\n",
      "| 5141  | RT @GOPLeader: Speaker Pelosi's ambition to create a select committee on the coronavirus crisis      |\n",
      "|       | isn't about oversight. It's pure politics.…                                                          |\n",
      "+-------+------------------------------------------------------------------------------------------------------+\n"
     ]
    }
   ],
   "source": [
    "from prettytable import PrettyTable\n",
    "\n",
    "#  Plot a table of the top 10 most-retweeted tweets\n",
    "def popular_retweets(data):\n",
    "    \n",
    "    # Tuple of variables going into table\n",
    "    retweets = [\n",
    "        (status['retweet_count'],\n",
    "         status['text'])\n",
    "\n",
    "        for status in data\n",
    "            if 'retweeted_status' in status.keys()\n",
    "    ]\n",
    "\n",
    "    # Create table\n",
    "    pt = PrettyTable(field_names=['Count', 'Text'])\n",
    "    [ pt.add_row(row) for row in sorted(retweets, reverse=True)[:10] ]\n",
    "    pt.max_width['Text'] = 100\n",
    "    pt.align= 'l'\n",
    "    print(pt)\n",
    "    \n",
    "popular_retweets(load_tweets())\n"
   ]
  },
  {
   "cell_type": "markdown",
   "metadata": {},
   "source": [
    "## **(3) Find the most popular Tweet Entities in your collection of tweets**\n",
    "\n",
    "Please plot the top 10 most-frequent hashtags and top 10 most-mentioned users in your collection of tweets."
   ]
  },
  {
   "cell_type": "code",
   "execution_count": 4,
   "metadata": {},
   "outputs": [
    {
     "name": "stdout",
     "output_type": "stream",
     "text": [
      "+-------------------+-------+\n",
      "| Hashtags          | Count |\n",
      "+-------------------+-------+\n",
      "| coronavirus       |     3 |\n",
      "| Coronavirus       |     2 |\n",
      "| cannabiseducation |     1 |\n",
      "| China             |     1 |\n",
      "| BREAKING          |     1 |\n",
      "| FoxNews           |     1 |\n",
      "| Hannity           |     1 |\n",
      "| COVID19           |     1 |\n",
      "| FilmYourHospital  |     1 |\n",
      "| ismail            |     1 |\n",
      "+-------------------+-------+\n",
      "+-----------------+-------+\n",
      "| Users           | Count |\n",
      "+-----------------+-------+\n",
      "| RealCandaceO    |     5 |\n",
      "| POTUS           |     4 |\n",
      "| spectatorindex  |     4 |\n",
      "| nytimes         |     4 |\n",
      "| davidaxelrod    |     3 |\n",
      "| funder          |     3 |\n",
      "| realDonaldTrump |     2 |\n",
      "| JStein_WaPo     |     2 |\n",
      "| GovNedLamont    |     2 |\n",
      "| CNNPolitics     |     2 |\n",
      "+-----------------+-------+\n"
     ]
    }
   ],
   "source": [
    "from collections import Counter\n",
    "from prettytable import PrettyTable\n",
    "\n",
    "#  Plot of the top 10 most-frequent hashtags\n",
    "def frequent_hashtags(data):\n",
    "    hashtags = []\n",
    "    for status in data:\n",
    "        for hashtag in status['entities']['hashtags']:\n",
    "            hashtags.append(hashtag['text'])\n",
    "        \n",
    "    for label, data in (('Hashtags', hashtags),):\n",
    "            pt = PrettyTable(field_names=[label, 'Count'])\n",
    "            c = Counter(data)\n",
    "            [ pt.add_row(kv) for kv in c.most_common()[:10] ]\n",
    "            pt.align[label], pt.align['Count'] = 'l', 'r' # Set column alignment\n",
    "            print(pt)\n",
    "    \n",
    "frequent_hashtags(load_tweets())\n",
    "\n",
    "# Plot of the top 10 most-mentioned users\n",
    "def most_mentioned_users(data):\n",
    "    screen_names = []\n",
    "    for status in data:\n",
    "        for user_mention in status['entities']['user_mentions']:\n",
    "            screen_names.append(user_mention['screen_name'])\n",
    "    \n",
    "    for label, data in (('Users', screen_names),):\n",
    "            pt = PrettyTable(field_names=[label, 'Count'])\n",
    "            c = Counter(data)\n",
    "            [ pt.add_row(kv) for kv in c.most_common()[:10] ]\n",
    "            pt.align[label], pt.align['Count'] = 'l', 'r' # Set column alignment\n",
    "            print(pt)\n",
    "\n",
    "most_mentioned_users(load_tweets())\n"
   ]
  },
  {
   "cell_type": "markdown",
   "metadata": {},
   "source": [
    "Plot a histogram of the number of user mentions in the list using the following bins."
   ]
  },
  {
   "cell_type": "code",
   "execution_count": 5,
   "metadata": {},
   "outputs": [
    {
     "data": {
      "image/png": "[encoded data removed]",
      "text/plain": [
       "<Figure size 432x288 with 1 Axes>"
      ]
     },
     "metadata": {
      "needs_background": "light"
     },
     "output_type": "display_data"
    },
    {
     "data": {
      "text/plain": [
       "<Figure size 432x288 with 0 Axes>"
      ]
     },
     "metadata": {},
     "output_type": "display_data"
    }
   ],
   "source": [
    "import matplotlib.pyplot as plt\n",
    "\n",
    "bins=[0, 10, 20, 30, 40, 50, 100]\n",
    "\n",
    "# Histogram of number of user mentions\n",
    "def create_histogram(data):\n",
    "    screen_names = []\n",
    "    for status in data:\n",
    "        for user_mention in status['entities']['user_mentions']:\n",
    "            screen_names.append(user_mention['screen_name'])\n",
    "    \n",
    "    for label, data in (('User Mentions', screen_names),):\n",
    "        c = Counter(data) # counts frequncy of words\n",
    "        plt.hist(c.values(), bins=bins) # plots each othe the values\n",
    "\n",
    "        # Assigns labels for title, x-axis, and y-axis\n",
    "        plt.title(label)\n",
    "        plt.ylabel(\"Number of items in bin\")\n",
    "        plt.xlabel(\"Number of user mentions (Bins)\")\n",
    "\n",
    "        # Display histogram\n",
    "        plt.figure()\n",
    "    \n",
    "create_histogram(load_tweets())\n"
   ]
  }
 ],
 "metadata": {
  "anaconda-cloud": {},
  "kernelspec": {
   "display_name": "Python 3",
   "language": "python",
   "name": "python3"
  },
  "language_info": {
   "codemirror_mode": {
    "name": "ipython",
    "version": 3
   },
   "file_extension": ".py",
   "mimetype": "text/x-python",
   "name": "python",
   "nbconvert_exporter": "python",
   "pygments_lexer": "ipython3",
   "version": "3.6.8"
  }
 },
 "nbformat": 4,
 "nbformat_minor": 1
}
